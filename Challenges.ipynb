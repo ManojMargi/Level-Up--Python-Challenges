{
 "cells": [
  {
   "cell_type": "markdown",
   "id": "6ad3ea41-bed3-46b7-9f9e-90ef7a319d33",
   "metadata": {},
   "source": [
    "# 1. Find prime factors"
   ]
  },
  {
   "cell_type": "code",
   "execution_count": 2,
   "id": "b8fecad5-50a5-46ce-a162-9f0a633aeeb1",
   "metadata": {},
   "outputs": [
    {
     "name": "stdin",
     "output_type": "stream",
     "text": [
      "Enter a number to find the prime factors:  636\n"
     ]
    },
    {
     "name": "stdout",
     "output_type": "stream",
     "text": [
      "[2, 2, 3, 53]\n"
     ]
    }
   ],
   "source": [
    "def get_prime_factors(number):\n",
    "    factors = []\n",
    "    divisor = 2\n",
    "    while divisor <= number:\n",
    "        if number % divisor == 0:\n",
    "            factors.append(divisor)\n",
    "            number = number // divisor\n",
    "        else:\n",
    "            divisor += 1\n",
    "    return factors\n",
    "\n",
    "print(get_prime_factors(int(input(\"Enter a number to find the prime factors: \"))))"
   ]
  },
  {
   "cell_type": "markdown",
   "id": "e14a87db-9fcc-44c3-b037-a94aedece26c",
   "metadata": {},
   "source": [
    "# 2. Identify a palindrome"
   ]
  },
  {
   "cell_type": "code",
   "execution_count": 4,
   "id": "95511749-7ac6-46ea-9354-19f83f94f27a",
   "metadata": {},
   "outputs": [
    {
     "name": "stdin",
     "output_type": "stream",
     "text": [
      "Enter a phrase\\word to check for palindrome:  level\n"
     ]
    },
    {
     "name": "stdout",
     "output_type": "stream",
     "text": [
      "True\n"
     ]
    }
   ],
   "source": [
    "# Check of entered string is palindrome or not\n",
    "\n",
    "import re\n",
    "\n",
    "def is_palindrome(phrase):\n",
    "    forwards = ''.join(re.findall(r'[a-z]', phrase.lower()))\n",
    "    backwards = forwards[::-1]\n",
    "    return forwards == backwards\n",
    "\n",
    "print(is_palindrome(input(\"Enter a phrase\\\\word to check for palindrome: \")))"
   ]
  },
  {
   "cell_type": "markdown",
   "id": "d93d410e-3068-4195-a2d8-bf0d9a7bce61",
   "metadata": {},
   "source": [
    "# 3. Sort a list of strings seperated by space ignoring the case"
   ]
  },
  {
   "cell_type": "code",
   "execution_count": 6,
   "id": "a944085d-14e2-4594-bd58-baeea90f5c67",
   "metadata": {},
   "outputs": [
    {
     "name": "stdin",
     "output_type": "stream",
     "text": [
      "Enter a phrase:  banana ORANGE apple\n"
     ]
    },
    {
     "name": "stdout",
     "output_type": "stream",
     "text": [
      "apple banana ORANGE\n"
     ]
    }
   ],
   "source": [
    "# Sort a string 1\n",
    "def sort_words(input):\n",
    "    words = input.split()\n",
    "    words = [w.lower() + w for w in words]\n",
    "    words.sort()\n",
    "    words = [w[len(w)//2:] for w in words]\n",
    "    return ' '.join(words)\n",
    "\n",
    "input_phrase = input(\"Enter a phrase: \")\n",
    "print(sort_words(input_phrase))"
   ]
  },
  {
   "cell_type": "code",
   "execution_count": 7,
   "id": "588abc60-48d9-4013-bad2-94ee6ce792d7",
   "metadata": {},
   "outputs": [
    {
     "name": "stdin",
     "output_type": "stream",
     "text": [
      "Enter a phrase:  banana ORANGE apple\n"
     ]
    },
    {
     "name": "stdout",
     "output_type": "stream",
     "text": [
      "apple banana ORANGE\n"
     ]
    }
   ],
   "source": [
    "# Sort a string 2\n",
    "def sort_words(words):\n",
    "    return ' '.join(sorted(words.split(), key = str.casefold))\n",
    "\n",
    "print(sort_words(input(\"Enter a phrase: \")))"
   ]
  },
  {
   "cell_type": "markdown",
   "id": "9dc9805f-4781-407a-90d6-49fc4f826bd4",
   "metadata": {},
   "source": [
    "# 4. Find all list items"
   ]
  },
  {
   "cell_type": "code",
   "execution_count": 9,
   "id": "5ce2539d-7d5e-4b1b-abd9-5b9e6d103330",
   "metadata": {},
   "outputs": [
    {
     "name": "stdout",
     "output_type": "stream",
     "text": [
      "[[0, 0, 1], [0, 1], [1, 1]]\n",
      "[[0, 0], [1]]\n"
     ]
    }
   ],
   "source": [
    "def index_all(search_list, item):\n",
    "    index_list = []\n",
    "    for index, value in enumerate(search_list):\n",
    "        if value == item:\n",
    "            index_list.append([index])\n",
    "        elif isinstance(search_list[index], list):\n",
    "            for i in index_all(search_list[index], item):\n",
    "                index_list.append([index] + i)\n",
    "    return index_list\n",
    "\n",
    "example = [[[1, 2, 3], 2, [1, 3]], [1, 2, 3]]\n",
    "print(index_all(example, 2))\n",
    "print(index_all(example, [1, 2, 3]))"
   ]
  },
  {
   "cell_type": "markdown",
   "id": "df6b3404-cfe3-4cfd-a439-db690e5fe088",
   "metadata": {},
   "source": [
    "# 5. Waiting Game"
   ]
  },
  {
   "cell_type": "code",
   "execution_count": 11,
   "id": "631c83d2-8042-463c-bc07-0e25d53b68e7",
   "metadata": {},
   "outputs": [
    {
     "name": "stdout",
     "output_type": "stream",
     "text": [
      "\n",
      " Your target time is 2 seconds\n"
     ]
    },
    {
     "name": "stdin",
     "output_type": "stream",
     "text": [
      " ---Press Enter to Begin---  \n",
      "...Press Enter again after 2 seconds... \n"
     ]
    },
    {
     "name": "stdout",
     "output_type": "stream",
     "text": [
      "\n",
      " Elapsed time: 1.605 seconds\n",
      "(0.395 seconds too fast)\n"
     ]
    }
   ],
   "source": [
    "import time\n",
    "import random\n",
    "\n",
    "def waiting_game():\n",
    "    target = random.randint(2,4) # target seconds to wait\n",
    "    print(f\"\\n Your target time is {target} seconds\")\n",
    "\n",
    "    input(\" ---Press Enter to Begin--- \")\n",
    "    start = time.perf_counter()\n",
    "\n",
    "    input(f\"...Press Enter again after {target} seconds...\")\n",
    "    elapsed = time.perf_counter() - start\n",
    "\n",
    "    print(f\"\\n Elapsed time: {elapsed :.3f} seconds\")\n",
    "    if elapsed == target:\n",
    "        print('(Unbelievable! Perfect Timing!)')\n",
    "    elif elapsed < target:\n",
    "        print(f'({target - elapsed :.3f} seconds too fast)')\n",
    "    else:\n",
    "        print(f'({elapsed - target :.3f} seconds too slow)')\n",
    "\n",
    "waiting_game()"
   ]
  },
  {
   "cell_type": "markdown",
   "id": "547b37a6-7b3b-4364-a05d-6c36fd301a70",
   "metadata": {},
   "source": [
    "# 6. Save a dictionary"
   ]
  },
  {
   "cell_type": "code",
   "execution_count": 13,
   "id": "18e3827c-e9b0-47d9-8395-ff8ff23fc7ca",
   "metadata": {},
   "outputs": [
    {
     "name": "stdout",
     "output_type": "stream",
     "text": [
      "{1: 'a', 2: 'b', 3: 'c'}\n"
     ]
    }
   ],
   "source": [
    "# using pickle module\n",
    "import pickle\n",
    "\n",
    "def save_dict(dict_to_save, file_path):\n",
    "    with open(file_path, 'wb') as file:\n",
    "        pickle.dump(dict_to_save,file)\n",
    "\n",
    "def load_dict(file_path):\n",
    "    with open(file_path, 'rb') as file:\n",
    "        return pickle.load(file)\n",
    "\n",
    "test_dict = {1 : 'a', 2 : 'b', 3 : 'c'}\n",
    "save_dict(test_dict, 'test_dict.pickle')\n",
    "recovered = load_dict('test_dict.pickle')\n",
    "print(recovered)"
   ]
  },
  {
   "cell_type": "markdown",
   "id": "069a269f-2e10-446c-b05e-37d7a82a4144",
   "metadata": {},
   "source": [
    "# 7. Schedule a function"
   ]
  },
  {
   "cell_type": "code",
   "execution_count": 15,
   "id": "79bc2f34-64c8-4b7b-bd9b-0b9724e15f74",
   "metadata": {},
   "outputs": [
    {
     "name": "stdout",
     "output_type": "stream",
     "text": [
      "print() scheduled for Sat Oct 26 22:28:22 2024\n",
      "Howdy!\n",
      "print() scheduled for Sat Oct 26 22:28:27 2024\n",
      "Howdy! How are you?\n"
     ]
    }
   ],
   "source": [
    "import sched\n",
    "import time\n",
    "\n",
    "def schedule_function(event_time, function, *args):\n",
    "    s = sched.scheduler(time.time, time.sleep)\n",
    "    s.enterabs(event_time, 1, function, argument = args)\n",
    "    print(f'{function.__name__}() scheduled for {time.asctime(time.localtime(event_time))}')\n",
    "    s.run()\n",
    "\n",
    "schedule_function(time.time() + 5, print, \"Howdy!\")\n",
    "schedule_function(time.time() + 5, print, \"Howdy!\", \"How are you?\")"
   ]
  },
  {
   "cell_type": "markdown",
   "id": "1bfacf15-4da4-49c2-b50f-7da117344db1",
   "metadata": {},
   "source": [
    "# 8. Send an email"
   ]
  },
  {
   "cell_type": "code",
   "execution_count": 22,
   "id": "438354bd-f85c-4705-97a8-364d10679ad9",
   "metadata": {},
   "outputs": [],
   "source": [
    "import smtplib\n",
    "\n",
    "SENDER_EMAIL = 'your_email'\n",
    "SENDER_PASSWORD = 'your_password'\n",
    "\n",
    "def send_email(receiver_email, subject, body):\n",
    "    message = f'Subject: {subject}\\n\\n{body}'\n",
    "    with smtplib.SMTP('smtp-mail.outlook.com', 587) as server:\n",
    "        server.starttls()\n",
    "        server.login(SENDER_EMAIL, SENDER_PASSWORD)\n",
    "        server.sendmail(SENDER_EMAIL, receiver_email, message)\n",
    "\n",
    "send_email('reciever_mail_id','Notification', 'Everything is awesome!')    "
   ]
  },
  {
   "cell_type": "markdown",
   "id": "fe6cfa82-c5e7-4199-9a97-cc7fc348ff85",
   "metadata": {},
   "source": [
    "# 9. Simulate Dice"
   ]
  },
  {
   "cell_type": "code",
   "execution_count": 29,
   "id": "7d546542-660b-4874-956e-816b2174f744",
   "metadata": {},
   "outputs": [
    {
     "name": "stdout",
     "output_type": "stream",
     "text": [
      "\n",
      "OUTCOME\tPROBABILITY\n",
      "3\t0.71%\n",
      "4\t2.08%\n",
      "5\t4.18%\n",
      "6\t6.93%\n",
      "7\t9.75%\n",
      "8\t12.53%\n",
      "9\t13.85%\n",
      "10\t13.86%\n",
      "11\t12.50%\n",
      "12\t9.71%\n",
      "13\t6.94%\n",
      "14\t4.17%\n",
      "15\t2.10%\n",
      "16\t0.68%\n"
     ]
    }
   ],
   "source": [
    "from random import randint\n",
    "from collections import Counter\n",
    "\n",
    "def roll_dice(*dice, num_trials = 1_000_000):\n",
    "    counts = Counter()\n",
    "    for _ in range(num_trials):\n",
    "        counts[sum((randint(1, sides) for sides in dice))] += 1\n",
    "\n",
    "    print('\\nOUTCOME\\tPROBABILITY')\n",
    "    for outcome in range(len(dice), sum(dice) + 1):\n",
    "        print(f'{outcome}\\t{counts[outcome] * 100 / num_trials :0.2f}%')\n",
    "\n",
    "roll_dice(4, 6, 6)"
   ]
  },
  {
   "cell_type": "markdown",
   "id": "493c972d-2fd5-46ed-8161-6a4327fe3c09",
   "metadata": {},
   "source": [
    "# 10. Count Unique Words"
   ]
  },
  {
   "cell_type": "code",
   "execution_count": 46,
   "id": "bcfec474-876a-402d-aa60-2674b1dbeebd",
   "metadata": {},
   "outputs": [
    {
     "name": "stdout",
     "output_type": "stream",
     "text": [
      "\n",
      "Total Words: 988445\n",
      "\n",
      "Top 20 Words:\n",
      "THE\t30588\n",
      "AND\t28541\n",
      "I\t24201\n",
      "TO\t21167\n",
      "OF\t18877\n",
      "A\t16397\n",
      "YOU\t14728\n",
      "MY\t13203\n",
      "IN\t12557\n",
      "THAT\t12286\n",
      "IS\t9945\n",
      "NOT\t9093\n",
      "S\t8620\n",
      "WITH\t8569\n",
      "FOR\t8296\n",
      "ME\t8280\n",
      "IT\t8263\n",
      "HIS\t7605\n",
      "HE\t7425\n",
      "BE\t7411\n"
     ]
    }
   ],
   "source": [
    "import re\n",
    "import collections\n",
    "\n",
    "def count_words(path):\n",
    "    with open(path, 'r', encoding = 'utf-8') as file:\n",
    "        all_words = re.findall(r\"[0-9a-zA-Z-']+\", file.read())\n",
    "        all_words = [word.upper() for word in all_words]\n",
    "        print(f'\\nTotal Words: {len(all_words)}')\n",
    "\n",
    "        word_counts = collections.Counter(all_words)\n",
    "        \n",
    "        print('\\nTop 20 Words:')\n",
    "        for word in word_counts.most_common(20):\n",
    "            print(f'{word[0]}\\t{word[1]}')\n",
    "\n",
    "count_words('the complete works of Shakespeare.txt')"
   ]
  },
  {
   "cell_type": "code",
   "execution_count": null,
   "id": "c94c3636-dd8b-4f91-b2a2-3ad6b6bb62bd",
   "metadata": {},
   "outputs": [],
   "source": []
  }
 ],
 "metadata": {
  "kernelspec": {
   "display_name": "Python 3 (ipykernel)",
   "language": "python",
   "name": "python3"
  },
  "language_info": {
   "codemirror_mode": {
    "name": "ipython",
    "version": 3
   },
   "file_extension": ".py",
   "mimetype": "text/x-python",
   "name": "python",
   "nbconvert_exporter": "python",
   "pygments_lexer": "ipython3",
   "version": "3.11.5"
  }
 },
 "nbformat": 4,
 "nbformat_minor": 5
}
