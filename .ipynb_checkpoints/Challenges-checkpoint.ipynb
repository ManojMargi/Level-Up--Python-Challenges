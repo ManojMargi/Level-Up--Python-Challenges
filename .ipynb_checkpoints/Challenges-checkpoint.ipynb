{
 "cells": [
  {
   "cell_type": "markdown",
   "id": "6ad3ea41-bed3-46b7-9f9e-90ef7a319d33",
   "metadata": {},
   "source": [
    "# Find prime factors"
   ]
  },
  {
   "cell_type": "code",
   "execution_count": 11,
   "id": "b8fecad5-50a5-46ce-a162-9f0a633aeeb1",
   "metadata": {},
   "outputs": [
    {
     "name": "stdin",
     "output_type": "stream",
     "text": [
      "Enter a number to find the prime factors:  636\n"
     ]
    },
    {
     "name": "stdout",
     "output_type": "stream",
     "text": [
      "[2, 2, 3, 53]\n"
     ]
    }
   ],
   "source": [
    "def get_prime_factors(number):\n",
    "    factors = []\n",
    "    divisor = 2\n",
    "    while divisor <= number:\n",
    "        if number % divisor == 0:\n",
    "            factors.append(divisor)\n",
    "            number = number // divisor\n",
    "        else:\n",
    "            divisor += 1\n",
    "    return factors\n",
    "\n",
    "print(get_prime_factors(int(input(\"Enter a number to find the prime factors: \"))))"
   ]
  },
  {
   "cell_type": "markdown",
   "id": "e14a87db-9fcc-44c3-b037-a94aedece26c",
   "metadata": {},
   "source": [
    "# Identify a palindrome"
   ]
  },
  {
   "cell_type": "code",
   "execution_count": 5,
   "id": "95511749-7ac6-46ea-9354-19f83f94f27a",
   "metadata": {},
   "outputs": [
    {
     "name": "stdin",
     "output_type": "stream",
     "text": [
      "Enter a phrase\\word to check for palindrome:  level\n"
     ]
    },
    {
     "name": "stdout",
     "output_type": "stream",
     "text": [
      "True\n"
     ]
    }
   ],
   "source": [
    "# Check of entered string is palindrome or not\n",
    "\n",
    "import re\n",
    "\n",
    "def is_palindrome(phrase):\n",
    "    forwards = ''.join(re.findall(r'[a-z]', phrase.lower()))\n",
    "    backwards = forwards[::-1]\n",
    "    return forwards == backwards\n",
    "\n",
    "print(is_palindrome(input(\"Enter a phrase\\\\word to check for palindrome: \")))"
   ]
  },
  {
   "cell_type": "markdown",
   "id": "d93d410e-3068-4195-a2d8-bf0d9a7bce61",
   "metadata": {},
   "source": [
    "# Sort a list of strings seperated by space ignoring the case"
   ]
  },
  {
   "cell_type": "code",
   "execution_count": 1,
   "id": "a944085d-14e2-4594-bd58-baeea90f5c67",
   "metadata": {},
   "outputs": [
    {
     "name": "stdin",
     "output_type": "stream",
     "text": [
      "Enter a phrase:  banana ORANGE apple\n"
     ]
    },
    {
     "name": "stdout",
     "output_type": "stream",
     "text": [
      "apple banana ORANGE\n"
     ]
    }
   ],
   "source": [
    "# Sort a string 1\n",
    "def sort_words(input):\n",
    "    words = input.split()\n",
    "    words = [w.lower() + w for w in words]\n",
    "    words.sort()\n",
    "    words = [w[len(w)//2:] for w in words]\n",
    "    return ' '.join(words)\n",
    "\n",
    "input_phrase = input(\"Enter a phrase: \")\n",
    "print(sort_words(input_phrase))"
   ]
  },
  {
   "cell_type": "code",
   "execution_count": 3,
   "id": "588abc60-48d9-4013-bad2-94ee6ce792d7",
   "metadata": {},
   "outputs": [
    {
     "name": "stdin",
     "output_type": "stream",
     "text": [
      "Enter a phrase:  banana ORANGE apple\n"
     ]
    },
    {
     "name": "stdout",
     "output_type": "stream",
     "text": [
      "apple banana ORANGE\n"
     ]
    }
   ],
   "source": [
    "# Sort a string 2\n",
    "def sort_words(words):\n",
    "    return ' '.join(sorted(words.split(), key = str.casefold))\n",
    "\n",
    "print(sort_words(input(\"Enter a phrase: \")))"
   ]
  },
  {
   "cell_type": "code",
   "execution_count": null,
   "id": "2e2a4592-e622-425a-9efc-c2e5b03d1545",
   "metadata": {},
   "outputs": [],
   "source": []
  }
 ],
 "metadata": {
  "kernelspec": {
   "display_name": "Python 3 (ipykernel)",
   "language": "python",
   "name": "python3"
  },
  "language_info": {
   "codemirror_mode": {
    "name": "ipython",
    "version": 3
   },
   "file_extension": ".py",
   "mimetype": "text/x-python",
   "name": "python",
   "nbconvert_exporter": "python",
   "pygments_lexer": "ipython3",
   "version": "3.11.5"
  }
 },
 "nbformat": 4,
 "nbformat_minor": 5
}
